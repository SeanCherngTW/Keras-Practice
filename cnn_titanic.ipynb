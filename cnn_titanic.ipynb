{
 "cells": [
  {
   "cell_type": "code",
   "execution_count": 6,
   "metadata": {
    "collapsed": true
   },
   "outputs": [],
   "source": [
    "import numpy as np\n",
    "import pandas as pd\n",
    "filepath = 'data/titanic3.xls'\n",
    "all_df = pd.read_excel(filepath)"
   ]
  },
  {
   "cell_type": "code",
   "execution_count": 13,
   "metadata": {
    "collapsed": false
   },
   "outputs": [
    {
     "data": {
      "text/html": [
       "<div>\n",
       "<table border=\"1\" class=\"dataframe\">\n",
       "  <thead>\n",
       "    <tr style=\"text-align: right;\">\n",
       "      <th></th>\n",
       "      <th>pclass</th>\n",
       "      <th>survived</th>\n",
       "      <th>name</th>\n",
       "      <th>sex</th>\n",
       "      <th>age</th>\n",
       "      <th>sibsp</th>\n",
       "      <th>parch</th>\n",
       "      <th>ticket</th>\n",
       "      <th>fare</th>\n",
       "      <th>cabin</th>\n",
       "      <th>embarked</th>\n",
       "      <th>boat</th>\n",
       "      <th>body</th>\n",
       "      <th>home.dest</th>\n",
       "    </tr>\n",
       "  </thead>\n",
       "  <tbody>\n",
       "    <tr>\n",
       "      <th>0</th>\n",
       "      <td>1</td>\n",
       "      <td>1</td>\n",
       "      <td>Allen, Miss. Elisabeth Walton</td>\n",
       "      <td>female</td>\n",
       "      <td>29.0000</td>\n",
       "      <td>0</td>\n",
       "      <td>0</td>\n",
       "      <td>24160</td>\n",
       "      <td>211.3375</td>\n",
       "      <td>B5</td>\n",
       "      <td>S</td>\n",
       "      <td>2</td>\n",
       "      <td>NaN</td>\n",
       "      <td>St Louis, MO</td>\n",
       "    </tr>\n",
       "    <tr>\n",
       "      <th>1</th>\n",
       "      <td>1</td>\n",
       "      <td>1</td>\n",
       "      <td>Allison, Master. Hudson Trevor</td>\n",
       "      <td>male</td>\n",
       "      <td>0.9167</td>\n",
       "      <td>1</td>\n",
       "      <td>2</td>\n",
       "      <td>113781</td>\n",
       "      <td>151.5500</td>\n",
       "      <td>C22 C26</td>\n",
       "      <td>S</td>\n",
       "      <td>11</td>\n",
       "      <td>NaN</td>\n",
       "      <td>Montreal, PQ / Chesterville, ON</td>\n",
       "    </tr>\n",
       "    <tr>\n",
       "      <th>2</th>\n",
       "      <td>1</td>\n",
       "      <td>0</td>\n",
       "      <td>Allison, Miss. Helen Loraine</td>\n",
       "      <td>female</td>\n",
       "      <td>2.0000</td>\n",
       "      <td>1</td>\n",
       "      <td>2</td>\n",
       "      <td>113781</td>\n",
       "      <td>151.5500</td>\n",
       "      <td>C22 C26</td>\n",
       "      <td>S</td>\n",
       "      <td>NaN</td>\n",
       "      <td>NaN</td>\n",
       "      <td>Montreal, PQ / Chesterville, ON</td>\n",
       "    </tr>\n",
       "    <tr>\n",
       "      <th>3</th>\n",
       "      <td>1</td>\n",
       "      <td>0</td>\n",
       "      <td>Allison, Mr. Hudson Joshua Creighton</td>\n",
       "      <td>male</td>\n",
       "      <td>30.0000</td>\n",
       "      <td>1</td>\n",
       "      <td>2</td>\n",
       "      <td>113781</td>\n",
       "      <td>151.5500</td>\n",
       "      <td>C22 C26</td>\n",
       "      <td>S</td>\n",
       "      <td>NaN</td>\n",
       "      <td>135.0</td>\n",
       "      <td>Montreal, PQ / Chesterville, ON</td>\n",
       "    </tr>\n",
       "    <tr>\n",
       "      <th>4</th>\n",
       "      <td>1</td>\n",
       "      <td>0</td>\n",
       "      <td>Allison, Mrs. Hudson J C (Bessie Waldo Daniels)</td>\n",
       "      <td>female</td>\n",
       "      <td>25.0000</td>\n",
       "      <td>1</td>\n",
       "      <td>2</td>\n",
       "      <td>113781</td>\n",
       "      <td>151.5500</td>\n",
       "      <td>C22 C26</td>\n",
       "      <td>S</td>\n",
       "      <td>NaN</td>\n",
       "      <td>NaN</td>\n",
       "      <td>Montreal, PQ / Chesterville, ON</td>\n",
       "    </tr>\n",
       "    <tr>\n",
       "      <th>5</th>\n",
       "      <td>1</td>\n",
       "      <td>1</td>\n",
       "      <td>Anderson, Mr. Harry</td>\n",
       "      <td>male</td>\n",
       "      <td>48.0000</td>\n",
       "      <td>0</td>\n",
       "      <td>0</td>\n",
       "      <td>19952</td>\n",
       "      <td>26.5500</td>\n",
       "      <td>E12</td>\n",
       "      <td>S</td>\n",
       "      <td>3</td>\n",
       "      <td>NaN</td>\n",
       "      <td>New York, NY</td>\n",
       "    </tr>\n",
       "    <tr>\n",
       "      <th>6</th>\n",
       "      <td>1</td>\n",
       "      <td>1</td>\n",
       "      <td>Andrews, Miss. Kornelia Theodosia</td>\n",
       "      <td>female</td>\n",
       "      <td>63.0000</td>\n",
       "      <td>1</td>\n",
       "      <td>0</td>\n",
       "      <td>13502</td>\n",
       "      <td>77.9583</td>\n",
       "      <td>D7</td>\n",
       "      <td>S</td>\n",
       "      <td>10</td>\n",
       "      <td>NaN</td>\n",
       "      <td>Hudson, NY</td>\n",
       "    </tr>\n",
       "    <tr>\n",
       "      <th>7</th>\n",
       "      <td>1</td>\n",
       "      <td>0</td>\n",
       "      <td>Andrews, Mr. Thomas Jr</td>\n",
       "      <td>male</td>\n",
       "      <td>39.0000</td>\n",
       "      <td>0</td>\n",
       "      <td>0</td>\n",
       "      <td>112050</td>\n",
       "      <td>0.0000</td>\n",
       "      <td>A36</td>\n",
       "      <td>S</td>\n",
       "      <td>NaN</td>\n",
       "      <td>NaN</td>\n",
       "      <td>Belfast, NI</td>\n",
       "    </tr>\n",
       "    <tr>\n",
       "      <th>8</th>\n",
       "      <td>1</td>\n",
       "      <td>1</td>\n",
       "      <td>Appleton, Mrs. Edward Dale (Charlotte Lamson)</td>\n",
       "      <td>female</td>\n",
       "      <td>53.0000</td>\n",
       "      <td>2</td>\n",
       "      <td>0</td>\n",
       "      <td>11769</td>\n",
       "      <td>51.4792</td>\n",
       "      <td>C101</td>\n",
       "      <td>S</td>\n",
       "      <td>D</td>\n",
       "      <td>NaN</td>\n",
       "      <td>Bayside, Queens, NY</td>\n",
       "    </tr>\n",
       "    <tr>\n",
       "      <th>9</th>\n",
       "      <td>1</td>\n",
       "      <td>0</td>\n",
       "      <td>Artagaveytia, Mr. Ramon</td>\n",
       "      <td>male</td>\n",
       "      <td>71.0000</td>\n",
       "      <td>0</td>\n",
       "      <td>0</td>\n",
       "      <td>PC 17609</td>\n",
       "      <td>49.5042</td>\n",
       "      <td>NaN</td>\n",
       "      <td>C</td>\n",
       "      <td>NaN</td>\n",
       "      <td>22.0</td>\n",
       "      <td>Montevideo, Uruguay</td>\n",
       "    </tr>\n",
       "  </tbody>\n",
       "</table>\n",
       "</div>"
      ],
      "text/plain": [
       "   pclass  survived                                             name     sex  \\\n",
       "0       1         1                    Allen, Miss. Elisabeth Walton  female   \n",
       "1       1         1                   Allison, Master. Hudson Trevor    male   \n",
       "2       1         0                     Allison, Miss. Helen Loraine  female   \n",
       "3       1         0             Allison, Mr. Hudson Joshua Creighton    male   \n",
       "4       1         0  Allison, Mrs. Hudson J C (Bessie Waldo Daniels)  female   \n",
       "5       1         1                              Anderson, Mr. Harry    male   \n",
       "6       1         1                Andrews, Miss. Kornelia Theodosia  female   \n",
       "7       1         0                           Andrews, Mr. Thomas Jr    male   \n",
       "8       1         1    Appleton, Mrs. Edward Dale (Charlotte Lamson)  female   \n",
       "9       1         0                          Artagaveytia, Mr. Ramon    male   \n",
       "\n",
       "       age  sibsp  parch    ticket      fare    cabin embarked boat   body  \\\n",
       "0  29.0000      0      0     24160  211.3375       B5        S    2    NaN   \n",
       "1   0.9167      1      2    113781  151.5500  C22 C26        S   11    NaN   \n",
       "2   2.0000      1      2    113781  151.5500  C22 C26        S  NaN    NaN   \n",
       "3  30.0000      1      2    113781  151.5500  C22 C26        S  NaN  135.0   \n",
       "4  25.0000      1      2    113781  151.5500  C22 C26        S  NaN    NaN   \n",
       "5  48.0000      0      0     19952   26.5500      E12        S    3    NaN   \n",
       "6  63.0000      1      0     13502   77.9583       D7        S   10    NaN   \n",
       "7  39.0000      0      0    112050    0.0000      A36        S  NaN    NaN   \n",
       "8  53.0000      2      0     11769   51.4792     C101        S    D    NaN   \n",
       "9  71.0000      0      0  PC 17609   49.5042      NaN        C  NaN   22.0   \n",
       "\n",
       "                         home.dest  \n",
       "0                     St Louis, MO  \n",
       "1  Montreal, PQ / Chesterville, ON  \n",
       "2  Montreal, PQ / Chesterville, ON  \n",
       "3  Montreal, PQ / Chesterville, ON  \n",
       "4  Montreal, PQ / Chesterville, ON  \n",
       "5                     New York, NY  \n",
       "6                       Hudson, NY  \n",
       "7                      Belfast, NI  \n",
       "8              Bayside, Queens, NY  \n",
       "9              Montevideo, Uruguay  "
      ]
     },
     "execution_count": 13,
     "metadata": {},
     "output_type": "execute_result"
    }
   ],
   "source": [
    "all_df[:10]"
   ]
  },
  {
   "cell_type": "code",
   "execution_count": 12,
   "metadata": {
    "collapsed": false
   },
   "outputs": [
    {
     "data": {
      "text/plain": [
       "pclass          0\n",
       "survived        0\n",
       "name            0\n",
       "sex             0\n",
       "age           263\n",
       "sibsp           0\n",
       "parch           0\n",
       "ticket          0\n",
       "fare            1\n",
       "cabin        1014\n",
       "embarked        2\n",
       "boat          823\n",
       "body         1188\n",
       "home.dest     564\n",
       "dtype: int64"
      ]
     },
     "execution_count": 12,
     "metadata": {},
     "output_type": "execute_result"
    }
   ],
   "source": [
    "all_df.isnull().sum()"
   ]
  },
  {
   "cell_type": "code",
   "execution_count": 14,
   "metadata": {
    "collapsed": true
   },
   "outputs": [],
   "source": [
    "cols = ['survived', 'pclass', 'sex', 'age', 'sibsp', 'parch', 'embarked']\n",
    "selected_df = all_df[cols]"
   ]
  },
  {
   "cell_type": "code",
   "execution_count": 16,
   "metadata": {
    "collapsed": false
   },
   "outputs": [
    {
     "data": {
      "text/plain": [
       "survived      0\n",
       "pclass        0\n",
       "sex           0\n",
       "age         263\n",
       "sibsp         0\n",
       "parch         0\n",
       "embarked      2\n",
       "dtype: int64"
      ]
     },
     "execution_count": 16,
     "metadata": {},
     "output_type": "execute_result"
    }
   ],
   "source": [
    "selected_df.isnull().sum()"
   ]
  },
  {
   "cell_type": "code",
   "execution_count": 17,
   "metadata": {
    "collapsed": false
   },
   "outputs": [
    {
     "name": "stderr",
     "output_type": "stream",
     "text": [
      "//anaconda/envs/py3/lib/python3.6/site-packages/ipykernel/__main__.py:1: SettingWithCopyWarning: \n",
      "A value is trying to be set on a copy of a slice from a DataFrame.\n",
      "Try using .loc[row_indexer,col_indexer] = value instead\n",
      "\n",
      "See the caveats in the documentation: http://pandas.pydata.org/pandas-docs/stable/indexing.html#indexing-view-versus-copy\n",
      "  if __name__ == '__main__':\n"
     ]
    }
   ],
   "source": [
    "selected_df['age'] = selected_df['age'].fillna(selected_df['age'].mean())"
   ]
  },
  {
   "cell_type": "code",
   "execution_count": 21,
   "metadata": {
    "collapsed": false
   },
   "outputs": [
    {
     "name": "stderr",
     "output_type": "stream",
     "text": [
      "//anaconda/envs/py3/lib/python3.6/site-packages/ipykernel/__main__.py:1: SettingWithCopyWarning: \n",
      "A value is trying to be set on a copy of a slice from a DataFrame.\n",
      "Try using .loc[row_indexer,col_indexer] = value instead\n",
      "\n",
      "See the caveats in the documentation: http://pandas.pydata.org/pandas-docs/stable/indexing.html#indexing-view-versus-copy\n",
      "  if __name__ == '__main__':\n"
     ]
    }
   ],
   "source": [
    "selected_df['embarked'] = selected_df['embarked'].fillna('S')"
   ]
  },
  {
   "cell_type": "code",
   "execution_count": 22,
   "metadata": {
    "collapsed": false
   },
   "outputs": [
    {
     "data": {
      "text/plain": [
       "survived    0\n",
       "pclass      0\n",
       "sex         0\n",
       "age         0\n",
       "sibsp       0\n",
       "parch       0\n",
       "embarked    0\n",
       "dtype: int64"
      ]
     },
     "execution_count": 22,
     "metadata": {},
     "output_type": "execute_result"
    }
   ],
   "source": [
    "selected_df.isnull().sum()"
   ]
  },
  {
   "cell_type": "code",
   "execution_count": 26,
   "metadata": {
    "collapsed": false
   },
   "outputs": [
    {
     "ename": "ValueError",
     "evalue": "Cannot convert NA to integer",
     "output_type": "error",
     "traceback": [
      "\u001b[0;31m---------------------------------------------------------------------------\u001b[0m",
      "\u001b[0;31mValueError\u001b[0m                                Traceback (most recent call last)",
      "\u001b[0;32m<ipython-input-26-62cf1149bc4b>\u001b[0m in \u001b[0;36m<module>\u001b[0;34m()\u001b[0m\n\u001b[0;32m----> 1\u001b[0;31m \u001b[0mselected_df\u001b[0m\u001b[0;34m[\u001b[0m\u001b[0;34m'sex'\u001b[0m\u001b[0;34m]\u001b[0m \u001b[0;34m=\u001b[0m \u001b[0mselected_df\u001b[0m\u001b[0;34m[\u001b[0m\u001b[0;34m'sex'\u001b[0m\u001b[0;34m]\u001b[0m\u001b[0;34m.\u001b[0m\u001b[0mmap\u001b[0m\u001b[0;34m(\u001b[0m\u001b[0;34m{\u001b[0m\u001b[0;34m'female'\u001b[0m\u001b[0;34m:\u001b[0m\u001b[0;36m0\u001b[0m\u001b[0;34m,\u001b[0m \u001b[0;34m'male'\u001b[0m\u001b[0;34m:\u001b[0m\u001b[0;36m1\u001b[0m\u001b[0;34m}\u001b[0m\u001b[0;34m)\u001b[0m\u001b[0;34m.\u001b[0m\u001b[0mastype\u001b[0m\u001b[0;34m(\u001b[0m\u001b[0mint\u001b[0m\u001b[0;34m)\u001b[0m\u001b[0;34m\u001b[0m\u001b[0m\n\u001b[0m",
      "\u001b[0;32m//anaconda/envs/py3/lib/python3.6/site-packages/pandas/core/generic.py\u001b[0m in \u001b[0;36mastype\u001b[0;34m(self, dtype, copy, raise_on_error, **kwargs)\u001b[0m\n\u001b[1;32m   3052\u001b[0m         \u001b[0;31m# else, only a single dtype is given\u001b[0m\u001b[0;34m\u001b[0m\u001b[0;34m\u001b[0m\u001b[0m\n\u001b[1;32m   3053\u001b[0m         new_data = self._data.astype(dtype=dtype, copy=copy,\n\u001b[0;32m-> 3054\u001b[0;31m                                      raise_on_error=raise_on_error, **kwargs)\n\u001b[0m\u001b[1;32m   3055\u001b[0m         \u001b[0;32mreturn\u001b[0m \u001b[0mself\u001b[0m\u001b[0;34m.\u001b[0m\u001b[0m_constructor\u001b[0m\u001b[0;34m(\u001b[0m\u001b[0mnew_data\u001b[0m\u001b[0;34m)\u001b[0m\u001b[0;34m.\u001b[0m\u001b[0m__finalize__\u001b[0m\u001b[0;34m(\u001b[0m\u001b[0mself\u001b[0m\u001b[0;34m)\u001b[0m\u001b[0;34m\u001b[0m\u001b[0m\n\u001b[1;32m   3056\u001b[0m \u001b[0;34m\u001b[0m\u001b[0m\n",
      "\u001b[0;32m//anaconda/envs/py3/lib/python3.6/site-packages/pandas/core/internals.py\u001b[0m in \u001b[0;36mastype\u001b[0;34m(self, dtype, **kwargs)\u001b[0m\n\u001b[1;32m   3187\u001b[0m \u001b[0;34m\u001b[0m\u001b[0m\n\u001b[1;32m   3188\u001b[0m     \u001b[0;32mdef\u001b[0m \u001b[0mastype\u001b[0m\u001b[0;34m(\u001b[0m\u001b[0mself\u001b[0m\u001b[0;34m,\u001b[0m \u001b[0mdtype\u001b[0m\u001b[0;34m,\u001b[0m \u001b[0;34m**\u001b[0m\u001b[0mkwargs\u001b[0m\u001b[0;34m)\u001b[0m\u001b[0;34m:\u001b[0m\u001b[0;34m\u001b[0m\u001b[0m\n\u001b[0;32m-> 3189\u001b[0;31m         \u001b[0;32mreturn\u001b[0m \u001b[0mself\u001b[0m\u001b[0;34m.\u001b[0m\u001b[0mapply\u001b[0m\u001b[0;34m(\u001b[0m\u001b[0;34m'astype'\u001b[0m\u001b[0;34m,\u001b[0m \u001b[0mdtype\u001b[0m\u001b[0;34m=\u001b[0m\u001b[0mdtype\u001b[0m\u001b[0;34m,\u001b[0m \u001b[0;34m**\u001b[0m\u001b[0mkwargs\u001b[0m\u001b[0;34m)\u001b[0m\u001b[0;34m\u001b[0m\u001b[0m\n\u001b[0m\u001b[1;32m   3190\u001b[0m \u001b[0;34m\u001b[0m\u001b[0m\n\u001b[1;32m   3191\u001b[0m     \u001b[0;32mdef\u001b[0m \u001b[0mconvert\u001b[0m\u001b[0;34m(\u001b[0m\u001b[0mself\u001b[0m\u001b[0;34m,\u001b[0m \u001b[0;34m**\u001b[0m\u001b[0mkwargs\u001b[0m\u001b[0;34m)\u001b[0m\u001b[0;34m:\u001b[0m\u001b[0;34m\u001b[0m\u001b[0m\n",
      "\u001b[0;32m//anaconda/envs/py3/lib/python3.6/site-packages/pandas/core/internals.py\u001b[0m in \u001b[0;36mapply\u001b[0;34m(self, f, axes, filter, do_integrity_check, consolidate, **kwargs)\u001b[0m\n\u001b[1;32m   3054\u001b[0m \u001b[0;34m\u001b[0m\u001b[0m\n\u001b[1;32m   3055\u001b[0m             \u001b[0mkwargs\u001b[0m\u001b[0;34m[\u001b[0m\u001b[0;34m'mgr'\u001b[0m\u001b[0;34m]\u001b[0m \u001b[0;34m=\u001b[0m \u001b[0mself\u001b[0m\u001b[0;34m\u001b[0m\u001b[0m\n\u001b[0;32m-> 3056\u001b[0;31m             \u001b[0mapplied\u001b[0m \u001b[0;34m=\u001b[0m \u001b[0mgetattr\u001b[0m\u001b[0;34m(\u001b[0m\u001b[0mb\u001b[0m\u001b[0;34m,\u001b[0m \u001b[0mf\u001b[0m\u001b[0;34m)\u001b[0m\u001b[0;34m(\u001b[0m\u001b[0;34m**\u001b[0m\u001b[0mkwargs\u001b[0m\u001b[0;34m)\u001b[0m\u001b[0;34m\u001b[0m\u001b[0m\n\u001b[0m\u001b[1;32m   3057\u001b[0m             \u001b[0mresult_blocks\u001b[0m \u001b[0;34m=\u001b[0m \u001b[0m_extend_blocks\u001b[0m\u001b[0;34m(\u001b[0m\u001b[0mapplied\u001b[0m\u001b[0;34m,\u001b[0m \u001b[0mresult_blocks\u001b[0m\u001b[0;34m)\u001b[0m\u001b[0;34m\u001b[0m\u001b[0m\n\u001b[1;32m   3058\u001b[0m \u001b[0;34m\u001b[0m\u001b[0m\n",
      "\u001b[0;32m//anaconda/envs/py3/lib/python3.6/site-packages/pandas/core/internals.py\u001b[0m in \u001b[0;36mastype\u001b[0;34m(self, dtype, copy, raise_on_error, values, **kwargs)\u001b[0m\n\u001b[1;32m    459\u001b[0m                **kwargs):\n\u001b[1;32m    460\u001b[0m         return self._astype(dtype, copy=copy, raise_on_error=raise_on_error,\n\u001b[0;32m--> 461\u001b[0;31m                             values=values, **kwargs)\n\u001b[0m\u001b[1;32m    462\u001b[0m \u001b[0;34m\u001b[0m\u001b[0m\n\u001b[1;32m    463\u001b[0m     def _astype(self, dtype, copy=False, raise_on_error=True, values=None,\n",
      "\u001b[0;32m//anaconda/envs/py3/lib/python3.6/site-packages/pandas/core/internals.py\u001b[0m in \u001b[0;36m_astype\u001b[0;34m(self, dtype, copy, raise_on_error, values, klass, mgr, **kwargs)\u001b[0m\n\u001b[1;32m    502\u001b[0m \u001b[0;34m\u001b[0m\u001b[0m\n\u001b[1;32m    503\u001b[0m                 \u001b[0;31m# _astype_nansafe works fine with 1-d only\u001b[0m\u001b[0;34m\u001b[0m\u001b[0;34m\u001b[0m\u001b[0m\n\u001b[0;32m--> 504\u001b[0;31m                 \u001b[0mvalues\u001b[0m \u001b[0;34m=\u001b[0m \u001b[0m_astype_nansafe\u001b[0m\u001b[0;34m(\u001b[0m\u001b[0mvalues\u001b[0m\u001b[0;34m.\u001b[0m\u001b[0mravel\u001b[0m\u001b[0;34m(\u001b[0m\u001b[0;34m)\u001b[0m\u001b[0;34m,\u001b[0m \u001b[0mdtype\u001b[0m\u001b[0;34m,\u001b[0m \u001b[0mcopy\u001b[0m\u001b[0;34m=\u001b[0m\u001b[0;32mTrue\u001b[0m\u001b[0;34m)\u001b[0m\u001b[0;34m\u001b[0m\u001b[0m\n\u001b[0m\u001b[1;32m    505\u001b[0m                 \u001b[0mvalues\u001b[0m \u001b[0;34m=\u001b[0m \u001b[0mvalues\u001b[0m\u001b[0;34m.\u001b[0m\u001b[0mreshape\u001b[0m\u001b[0;34m(\u001b[0m\u001b[0mself\u001b[0m\u001b[0;34m.\u001b[0m\u001b[0mshape\u001b[0m\u001b[0;34m)\u001b[0m\u001b[0;34m\u001b[0m\u001b[0m\n\u001b[1;32m    506\u001b[0m \u001b[0;34m\u001b[0m\u001b[0m\n",
      "\u001b[0;32m//anaconda/envs/py3/lib/python3.6/site-packages/pandas/types/cast.py\u001b[0m in \u001b[0;36m_astype_nansafe\u001b[0;34m(arr, dtype, copy)\u001b[0m\n\u001b[1;32m    529\u001b[0m \u001b[0;34m\u001b[0m\u001b[0m\n\u001b[1;32m    530\u001b[0m         \u001b[0;32mif\u001b[0m \u001b[0mnp\u001b[0m\u001b[0;34m.\u001b[0m\u001b[0misnan\u001b[0m\u001b[0;34m(\u001b[0m\u001b[0marr\u001b[0m\u001b[0;34m)\u001b[0m\u001b[0;34m.\u001b[0m\u001b[0many\u001b[0m\u001b[0;34m(\u001b[0m\u001b[0;34m)\u001b[0m\u001b[0;34m:\u001b[0m\u001b[0;34m\u001b[0m\u001b[0m\n\u001b[0;32m--> 531\u001b[0;31m             \u001b[0;32mraise\u001b[0m \u001b[0mValueError\u001b[0m\u001b[0;34m(\u001b[0m\u001b[0;34m'Cannot convert NA to integer'\u001b[0m\u001b[0;34m)\u001b[0m\u001b[0;34m\u001b[0m\u001b[0m\n\u001b[0m\u001b[1;32m    532\u001b[0m     \u001b[0;32melif\u001b[0m \u001b[0marr\u001b[0m\u001b[0;34m.\u001b[0m\u001b[0mdtype\u001b[0m \u001b[0;34m==\u001b[0m \u001b[0mnp\u001b[0m\u001b[0;34m.\u001b[0m\u001b[0mobject_\u001b[0m \u001b[0;32mand\u001b[0m \u001b[0mnp\u001b[0m\u001b[0;34m.\u001b[0m\u001b[0missubdtype\u001b[0m\u001b[0;34m(\u001b[0m\u001b[0mdtype\u001b[0m\u001b[0;34m.\u001b[0m\u001b[0mtype\u001b[0m\u001b[0;34m,\u001b[0m \u001b[0mnp\u001b[0m\u001b[0;34m.\u001b[0m\u001b[0minteger\u001b[0m\u001b[0;34m)\u001b[0m\u001b[0;34m:\u001b[0m\u001b[0;34m\u001b[0m\u001b[0m\n\u001b[1;32m    533\u001b[0m         \u001b[0;31m# work around NumPy brokenness, #1987\u001b[0m\u001b[0;34m\u001b[0m\u001b[0;34m\u001b[0m\u001b[0m\n",
      "\u001b[0;31mValueError\u001b[0m: Cannot convert NA to integer"
     ]
    }
   ],
   "source": [
    "selected_df['sex'] = selected_df['sex'].map({'female':0, 'male':1}).astype(int)"
   ]
  },
  {
   "cell_type": "code",
   "execution_count": 27,
   "metadata": {
    "collapsed": true
   },
   "outputs": [],
   "source": [
    "selected_df = pd.get_dummies(data=selected_df, columns=['embarked'])"
   ]
  },
  {
   "cell_type": "code",
   "execution_count": 28,
   "metadata": {
    "collapsed": false
   },
   "outputs": [
    {
     "data": {
      "text/html": [
       "<div>\n",
       "<table border=\"1\" class=\"dataframe\">\n",
       "  <thead>\n",
       "    <tr style=\"text-align: right;\">\n",
       "      <th></th>\n",
       "      <th>survived</th>\n",
       "      <th>pclass</th>\n",
       "      <th>sex</th>\n",
       "      <th>age</th>\n",
       "      <th>sibsp</th>\n",
       "      <th>parch</th>\n",
       "      <th>embarked_C</th>\n",
       "      <th>embarked_Q</th>\n",
       "      <th>embarked_S</th>\n",
       "    </tr>\n",
       "  </thead>\n",
       "  <tbody>\n",
       "    <tr>\n",
       "      <th>0</th>\n",
       "      <td>1</td>\n",
       "      <td>1</td>\n",
       "      <td>0</td>\n",
       "      <td>29.0000</td>\n",
       "      <td>0</td>\n",
       "      <td>0</td>\n",
       "      <td>0</td>\n",
       "      <td>0</td>\n",
       "      <td>1</td>\n",
       "    </tr>\n",
       "    <tr>\n",
       "      <th>1</th>\n",
       "      <td>1</td>\n",
       "      <td>1</td>\n",
       "      <td>1</td>\n",
       "      <td>0.9167</td>\n",
       "      <td>1</td>\n",
       "      <td>2</td>\n",
       "      <td>0</td>\n",
       "      <td>0</td>\n",
       "      <td>1</td>\n",
       "    </tr>\n",
       "    <tr>\n",
       "      <th>2</th>\n",
       "      <td>0</td>\n",
       "      <td>1</td>\n",
       "      <td>0</td>\n",
       "      <td>2.0000</td>\n",
       "      <td>1</td>\n",
       "      <td>2</td>\n",
       "      <td>0</td>\n",
       "      <td>0</td>\n",
       "      <td>1</td>\n",
       "    </tr>\n",
       "    <tr>\n",
       "      <th>3</th>\n",
       "      <td>0</td>\n",
       "      <td>1</td>\n",
       "      <td>1</td>\n",
       "      <td>30.0000</td>\n",
       "      <td>1</td>\n",
       "      <td>2</td>\n",
       "      <td>0</td>\n",
       "      <td>0</td>\n",
       "      <td>1</td>\n",
       "    </tr>\n",
       "    <tr>\n",
       "      <th>4</th>\n",
       "      <td>0</td>\n",
       "      <td>1</td>\n",
       "      <td>0</td>\n",
       "      <td>25.0000</td>\n",
       "      <td>1</td>\n",
       "      <td>2</td>\n",
       "      <td>0</td>\n",
       "      <td>0</td>\n",
       "      <td>1</td>\n",
       "    </tr>\n",
       "    <tr>\n",
       "      <th>5</th>\n",
       "      <td>1</td>\n",
       "      <td>1</td>\n",
       "      <td>1</td>\n",
       "      <td>48.0000</td>\n",
       "      <td>0</td>\n",
       "      <td>0</td>\n",
       "      <td>0</td>\n",
       "      <td>0</td>\n",
       "      <td>1</td>\n",
       "    </tr>\n",
       "    <tr>\n",
       "      <th>6</th>\n",
       "      <td>1</td>\n",
       "      <td>1</td>\n",
       "      <td>0</td>\n",
       "      <td>63.0000</td>\n",
       "      <td>1</td>\n",
       "      <td>0</td>\n",
       "      <td>0</td>\n",
       "      <td>0</td>\n",
       "      <td>1</td>\n",
       "    </tr>\n",
       "    <tr>\n",
       "      <th>7</th>\n",
       "      <td>0</td>\n",
       "      <td>1</td>\n",
       "      <td>1</td>\n",
       "      <td>39.0000</td>\n",
       "      <td>0</td>\n",
       "      <td>0</td>\n",
       "      <td>0</td>\n",
       "      <td>0</td>\n",
       "      <td>1</td>\n",
       "    </tr>\n",
       "    <tr>\n",
       "      <th>8</th>\n",
       "      <td>1</td>\n",
       "      <td>1</td>\n",
       "      <td>0</td>\n",
       "      <td>53.0000</td>\n",
       "      <td>2</td>\n",
       "      <td>0</td>\n",
       "      <td>0</td>\n",
       "      <td>0</td>\n",
       "      <td>1</td>\n",
       "    </tr>\n",
       "    <tr>\n",
       "      <th>9</th>\n",
       "      <td>0</td>\n",
       "      <td>1</td>\n",
       "      <td>1</td>\n",
       "      <td>71.0000</td>\n",
       "      <td>0</td>\n",
       "      <td>0</td>\n",
       "      <td>1</td>\n",
       "      <td>0</td>\n",
       "      <td>0</td>\n",
       "    </tr>\n",
       "  </tbody>\n",
       "</table>\n",
       "</div>"
      ],
      "text/plain": [
       "   survived  pclass  sex      age  sibsp  parch  embarked_C  embarked_Q  \\\n",
       "0         1       1    0  29.0000      0      0           0           0   \n",
       "1         1       1    1   0.9167      1      2           0           0   \n",
       "2         0       1    0   2.0000      1      2           0           0   \n",
       "3         0       1    1  30.0000      1      2           0           0   \n",
       "4         0       1    0  25.0000      1      2           0           0   \n",
       "5         1       1    1  48.0000      0      0           0           0   \n",
       "6         1       1    0  63.0000      1      0           0           0   \n",
       "7         0       1    1  39.0000      0      0           0           0   \n",
       "8         1       1    0  53.0000      2      0           0           0   \n",
       "9         0       1    1  71.0000      0      0           1           0   \n",
       "\n",
       "   embarked_S  \n",
       "0           1  \n",
       "1           1  \n",
       "2           1  \n",
       "3           1  \n",
       "4           1  \n",
       "5           1  \n",
       "6           1  \n",
       "7           1  \n",
       "8           1  \n",
       "9           0  "
      ]
     },
     "execution_count": 28,
     "metadata": {},
     "output_type": "execute_result"
    }
   ],
   "source": [
    "selected_df[:10]"
   ]
  },
  {
   "cell_type": "code",
   "execution_count": 45,
   "metadata": {
    "collapsed": false
   },
   "outputs": [],
   "source": [
    "msk = np.random.rand(len(selected_df)) < 0.8\n",
    "train_df = selected_df[msk]\n",
    "test_df = selected_df[~msk]"
   ]
  },
  {
   "cell_type": "code",
   "execution_count": 48,
   "metadata": {
    "collapsed": false
   },
   "outputs": [
    {
     "name": "stdout",
     "output_type": "stream",
     "text": [
      "Total: 1309\n",
      "Train: 1041\n",
      "Test : 268\n"
     ]
    }
   ],
   "source": [
    "print('Total: '+ str(len(selected_df)))\n",
    "print('Train: '+ str(len(train_df)))\n",
    "print('Test : '+ str(len(test_df)))"
   ]
  },
  {
   "cell_type": "code",
   "execution_count": 55,
   "metadata": {
    "collapsed": false
   },
   "outputs": [],
   "source": [
    "train_labels = train_df.values[:,0]\n",
    "train_features = train_df.values[:,1:]\n",
    "test_labels = test_df.values[:,0]\n",
    "test_features = test_df.values[:,1:]"
   ]
  },
  {
   "cell_type": "code",
   "execution_count": 125,
   "metadata": {
    "collapsed": false
   },
   "outputs": [],
   "source": [
    "from sklearn import preprocessing"
   ]
  },
  {
   "cell_type": "code",
   "execution_count": 146,
   "metadata": {
    "collapsed": false
   },
   "outputs": [],
   "source": [
    "minmax_scale = preprocessing.MinMaxScaler(feature_range=(-1, 1))\n",
    "train_features = minmax_scale.fit_transform(train_features)\n",
    "test_features = minmax_scale.fit_transform(test_features)"
   ]
  },
  {
   "cell_type": "code",
   "execution_count": 147,
   "metadata": {
    "collapsed": false
   },
   "outputs": [
    {
     "data": {
      "text/plain": [
       "(1041, 8)"
      ]
     },
     "execution_count": 147,
     "metadata": {},
     "output_type": "execute_result"
    }
   ],
   "source": [
    "train_features.shape"
   ]
  },
  {
   "cell_type": "code",
   "execution_count": 148,
   "metadata": {
    "collapsed": false
   },
   "outputs": [],
   "source": [
    "from keras.models import Sequential\n",
    "from keras.layers import Dense, Dropout"
   ]
  },
  {
   "cell_type": "code",
   "execution_count": 149,
   "metadata": {
    "collapsed": true
   },
   "outputs": [],
   "source": [
    "model = Sequential()\n",
    "model.add(Dense(units=100, input_dim=8, kernel_initializer='uniform', activation='relu'))\n",
    "model.add(Dropout(0.5))\n",
    "model.add(Dense(units=50, kernel_initializer='uniform', activation='relu'))\n",
    "model.add(Dropout(0.5))\n",
    "model.add(Dense(units=1, kernel_initializer='uniform', activation='relu'))"
   ]
  },
  {
   "cell_type": "code",
   "execution_count": 150,
   "metadata": {
    "collapsed": false
   },
   "outputs": [
    {
     "name": "stdout",
     "output_type": "stream",
     "text": [
      "_________________________________________________________________\n",
      "Layer (type)                 Output Shape              Param #   \n",
      "=================================================================\n",
      "dense_26 (Dense)             (None, 100)               900       \n",
      "_________________________________________________________________\n",
      "dropout_18 (Dropout)         (None, 100)               0         \n",
      "_________________________________________________________________\n",
      "dense_27 (Dense)             (None, 50)                5050      \n",
      "_________________________________________________________________\n",
      "dropout_19 (Dropout)         (None, 50)                0         \n",
      "_________________________________________________________________\n",
      "dense_28 (Dense)             (None, 1)                 51        \n",
      "=================================================================\n",
      "Total params: 6,001\n",
      "Trainable params: 6,001\n",
      "Non-trainable params: 0\n",
      "_________________________________________________________________\n"
     ]
    }
   ],
   "source": [
    "model.summary()"
   ]
  },
  {
   "cell_type": "code",
   "execution_count": 151,
   "metadata": {
    "collapsed": true
   },
   "outputs": [],
   "source": [
    "model.compile(loss='binary_crossentropy', optimizer='adam', metrics=['accuracy'])"
   ]
  },
  {
   "cell_type": "code",
   "execution_count": 152,
   "metadata": {
    "collapsed": false
   },
   "outputs": [
    {
     "name": "stdout",
     "output_type": "stream",
     "text": [
      "Train on 884 samples, validate on 157 samples\n",
      "Epoch 1/100\n",
      "0s - loss: 1.6591 - acc: 0.5769 - val_loss: 0.5988 - val_acc: 0.8089\n",
      "Epoch 2/100\n",
      "0s - loss: 1.0781 - acc: 0.5769 - val_loss: 0.4960 - val_acc: 0.8089\n",
      "Epoch 3/100\n",
      "0s - loss: 0.8202 - acc: 0.5769 - val_loss: 0.4767 - val_acc: 0.8089\n",
      "Epoch 4/100\n",
      "0s - loss: 0.6856 - acc: 0.5871 - val_loss: 0.5012 - val_acc: 0.8089\n",
      "Epoch 5/100\n",
      "0s - loss: 0.6149 - acc: 0.6799 - val_loss: 0.5223 - val_acc: 0.8025\n",
      "Epoch 6/100\n",
      "0s - loss: 0.5917 - acc: 0.6957 - val_loss: 0.4928 - val_acc: 0.8025\n",
      "Epoch 7/100\n",
      "0s - loss: 0.5569 - acc: 0.7138 - val_loss: 0.4601 - val_acc: 0.8153\n",
      "Epoch 8/100\n",
      "0s - loss: 0.5362 - acc: 0.7421 - val_loss: 0.4433 - val_acc: 0.8089\n",
      "Epoch 9/100\n",
      "0s - loss: 0.5269 - acc: 0.7500 - val_loss: 0.4373 - val_acc: 0.7962\n",
      "Epoch 10/100\n",
      "0s - loss: 0.5205 - acc: 0.7692 - val_loss: 0.4373 - val_acc: 0.7771\n",
      "Epoch 11/100\n",
      "0s - loss: 0.5325 - acc: 0.7398 - val_loss: 0.4254 - val_acc: 0.8025\n",
      "Epoch 12/100\n",
      "0s - loss: 0.5374 - acc: 0.7613 - val_loss: 0.4249 - val_acc: 0.8089\n",
      "Epoch 13/100\n",
      "0s - loss: 0.5600 - acc: 0.7715 - val_loss: 0.4304 - val_acc: 0.7898\n",
      "Epoch 14/100\n",
      "0s - loss: 0.5602 - acc: 0.7760 - val_loss: 0.4291 - val_acc: 0.7962\n",
      "Epoch 15/100\n",
      "0s - loss: 0.5143 - acc: 0.7568 - val_loss: 0.4251 - val_acc: 0.7962\n",
      "Epoch 16/100\n",
      "0s - loss: 0.5492 - acc: 0.7579 - val_loss: 0.4255 - val_acc: 0.7962\n",
      "Epoch 17/100\n",
      "0s - loss: 0.5461 - acc: 0.7738 - val_loss: 0.4321 - val_acc: 0.7962\n",
      "Epoch 18/100\n",
      "0s - loss: 0.5603 - acc: 0.7624 - val_loss: 0.4257 - val_acc: 0.7962\n",
      "Epoch 19/100\n",
      "0s - loss: 0.6020 - acc: 0.7794 - val_loss: 0.4271 - val_acc: 0.7962\n",
      "Epoch 20/100\n",
      "0s - loss: 0.5653 - acc: 0.7523 - val_loss: 0.4263 - val_acc: 0.8025\n",
      "Epoch 21/100\n",
      "0s - loss: 0.6188 - acc: 0.7500 - val_loss: 0.4265 - val_acc: 0.8025\n",
      "Epoch 22/100\n",
      "0s - loss: 0.5277 - acc: 0.7658 - val_loss: 0.4260 - val_acc: 0.8089\n",
      "Epoch 23/100\n",
      "0s - loss: 0.5289 - acc: 0.7511 - val_loss: 0.4250 - val_acc: 0.8089\n",
      "Epoch 24/100\n",
      "0s - loss: 0.5389 - acc: 0.7624 - val_loss: 0.4201 - val_acc: 0.8217\n",
      "Epoch 25/100\n",
      "0s - loss: 0.5417 - acc: 0.7568 - val_loss: 0.4160 - val_acc: 0.8217\n",
      "Epoch 26/100\n",
      "0s - loss: 0.5413 - acc: 0.7590 - val_loss: 0.4183 - val_acc: 0.8217\n",
      "Epoch 27/100\n",
      "0s - loss: 0.5161 - acc: 0.7568 - val_loss: 0.4223 - val_acc: 0.8217\n",
      "Epoch 28/100\n",
      "0s - loss: 0.5527 - acc: 0.7658 - val_loss: 0.4192 - val_acc: 0.8344\n",
      "Epoch 29/100\n",
      "0s - loss: 0.5211 - acc: 0.7681 - val_loss: 0.4177 - val_acc: 0.8344\n",
      "Epoch 30/100\n",
      "0s - loss: 0.5345 - acc: 0.7557 - val_loss: 0.4213 - val_acc: 0.8153\n",
      "Epoch 31/100\n",
      "0s - loss: 0.5544 - acc: 0.7376 - val_loss: 0.4235 - val_acc: 0.8153\n",
      "Epoch 32/100\n",
      "0s - loss: 0.5334 - acc: 0.7681 - val_loss: 0.4252 - val_acc: 0.8217\n",
      "Epoch 33/100\n",
      "0s - loss: 0.5343 - acc: 0.7477 - val_loss: 0.4206 - val_acc: 0.8344\n",
      "Epoch 34/100\n",
      "0s - loss: 0.5232 - acc: 0.7545 - val_loss: 0.4205 - val_acc: 0.8408\n",
      "Epoch 35/100\n",
      "0s - loss: 0.5966 - acc: 0.7489 - val_loss: 0.4245 - val_acc: 0.8217\n",
      "Epoch 36/100\n",
      "0s - loss: 0.5259 - acc: 0.7421 - val_loss: 0.4264 - val_acc: 0.8280\n",
      "Epoch 37/100\n",
      "0s - loss: 0.5514 - acc: 0.7308 - val_loss: 0.4291 - val_acc: 0.8089\n",
      "Epoch 38/100\n",
      "0s - loss: 0.5769 - acc: 0.7206 - val_loss: 0.4246 - val_acc: 0.8217\n",
      "Epoch 39/100\n",
      "0s - loss: 0.5969 - acc: 0.7330 - val_loss: 0.4234 - val_acc: 0.8280\n",
      "Epoch 40/100\n",
      "0s - loss: 0.5428 - acc: 0.7262 - val_loss: 0.4233 - val_acc: 0.8280\n",
      "Epoch 41/100\n",
      "0s - loss: 0.5289 - acc: 0.7138 - val_loss: 0.4236 - val_acc: 0.8217\n",
      "Epoch 42/100\n",
      "0s - loss: 0.5889 - acc: 0.7376 - val_loss: 0.4240 - val_acc: 0.8280\n",
      "Epoch 43/100\n",
      "0s - loss: 0.5370 - acc: 0.7353 - val_loss: 0.4307 - val_acc: 0.8280\n",
      "Epoch 44/100\n",
      "0s - loss: 0.5018 - acc: 0.7229 - val_loss: 0.4192 - val_acc: 0.8217\n",
      "Epoch 45/100\n",
      "0s - loss: 0.5059 - acc: 0.7602 - val_loss: 0.4197 - val_acc: 0.8217\n",
      "Epoch 46/100\n",
      "0s - loss: 0.5266 - acc: 0.7523 - val_loss: 0.4233 - val_acc: 0.8280\n",
      "Epoch 47/100\n",
      "0s - loss: 0.5599 - acc: 0.7500 - val_loss: 0.4300 - val_acc: 0.8280\n",
      "Epoch 48/100\n",
      "0s - loss: 0.5651 - acc: 0.7421 - val_loss: 0.4285 - val_acc: 0.8344\n",
      "Epoch 49/100\n",
      "0s - loss: 0.5277 - acc: 0.7262 - val_loss: 0.4239 - val_acc: 0.8280\n",
      "Epoch 50/100\n",
      "0s - loss: 0.4994 - acc: 0.7353 - val_loss: 0.4201 - val_acc: 0.8217\n",
      "Epoch 51/100\n",
      "0s - loss: 0.5276 - acc: 0.7500 - val_loss: 0.4211 - val_acc: 0.8217\n",
      "Epoch 52/100\n",
      "0s - loss: 0.5232 - acc: 0.7353 - val_loss: 0.4193 - val_acc: 0.8217\n",
      "Epoch 53/100\n",
      "0s - loss: 0.5357 - acc: 0.7466 - val_loss: 0.4216 - val_acc: 0.8089\n",
      "Epoch 54/100\n",
      "0s - loss: 0.5115 - acc: 0.7636 - val_loss: 0.4283 - val_acc: 0.8217\n",
      "Epoch 55/100\n",
      "0s - loss: 0.5332 - acc: 0.7353 - val_loss: 0.4314 - val_acc: 0.8280\n",
      "Epoch 56/100\n",
      "0s - loss: 0.5474 - acc: 0.7330 - val_loss: 0.4297 - val_acc: 0.8280\n",
      "Epoch 57/100\n",
      "0s - loss: 0.5394 - acc: 0.7500 - val_loss: 0.4229 - val_acc: 0.8153\n",
      "Epoch 58/100\n",
      "0s - loss: 0.5627 - acc: 0.7489 - val_loss: 0.4219 - val_acc: 0.8217\n",
      "Epoch 59/100\n",
      "0s - loss: 0.5474 - acc: 0.7432 - val_loss: 0.4196 - val_acc: 0.8280\n",
      "Epoch 60/100\n",
      "0s - loss: 0.5149 - acc: 0.7421 - val_loss: 0.4231 - val_acc: 0.8344\n",
      "Epoch 61/100\n",
      "0s - loss: 0.5190 - acc: 0.7511 - val_loss: 0.4243 - val_acc: 0.8280\n",
      "Epoch 62/100\n",
      "0s - loss: 0.5362 - acc: 0.7421 - val_loss: 0.4193 - val_acc: 0.8217\n",
      "Epoch 63/100\n",
      "0s - loss: 0.5513 - acc: 0.7410 - val_loss: 0.4206 - val_acc: 0.8217\n",
      "Epoch 64/100\n",
      "0s - loss: 0.5367 - acc: 0.7319 - val_loss: 0.4216 - val_acc: 0.8280\n",
      "Epoch 65/100\n",
      "0s - loss: 0.4835 - acc: 0.7421 - val_loss: 0.4239 - val_acc: 0.8280\n",
      "Epoch 66/100\n",
      "0s - loss: 0.5093 - acc: 0.7398 - val_loss: 0.4262 - val_acc: 0.8025\n",
      "Epoch 67/100\n",
      "0s - loss: 0.5272 - acc: 0.7523 - val_loss: 0.4270 - val_acc: 0.8153\n",
      "Epoch 68/100\n",
      "0s - loss: 0.5297 - acc: 0.7647 - val_loss: 0.4284 - val_acc: 0.8089\n",
      "Epoch 69/100\n",
      "0s - loss: 0.5154 - acc: 0.7455 - val_loss: 0.4302 - val_acc: 0.8153\n",
      "Epoch 70/100\n",
      "0s - loss: 0.5342 - acc: 0.7443 - val_loss: 0.4271 - val_acc: 0.8153\n",
      "Epoch 71/100\n",
      "0s - loss: 0.5493 - acc: 0.7466 - val_loss: 0.4254 - val_acc: 0.8217\n",
      "Epoch 72/100\n",
      "0s - loss: 0.5303 - acc: 0.7353 - val_loss: 0.4285 - val_acc: 0.8217\n",
      "Epoch 73/100\n",
      "0s - loss: 0.4974 - acc: 0.7342 - val_loss: 0.4329 - val_acc: 0.8280\n",
      "Epoch 74/100\n",
      "0s - loss: 0.5109 - acc: 0.7455 - val_loss: 0.4240 - val_acc: 0.8280\n",
      "Epoch 75/100\n",
      "0s - loss: 0.5491 - acc: 0.7523 - val_loss: 0.4165 - val_acc: 0.8217\n",
      "Epoch 76/100\n",
      "0s - loss: 0.5443 - acc: 0.7251 - val_loss: 0.4219 - val_acc: 0.8153\n",
      "Epoch 77/100\n",
      "0s - loss: 0.5175 - acc: 0.7500 - val_loss: 0.4260 - val_acc: 0.8280\n",
      "Epoch 78/100\n",
      "0s - loss: 0.5547 - acc: 0.7308 - val_loss: 0.4275 - val_acc: 0.8089\n",
      "Epoch 79/100\n",
      "0s - loss: 0.5762 - acc: 0.7342 - val_loss: 0.4216 - val_acc: 0.8153\n",
      "Epoch 80/100\n",
      "0s - loss: 0.5152 - acc: 0.7387 - val_loss: 0.4215 - val_acc: 0.8153\n",
      "Epoch 81/100\n",
      "0s - loss: 0.5305 - acc: 0.7319 - val_loss: 0.4205 - val_acc: 0.8280\n",
      "Epoch 82/100\n",
      "0s - loss: 0.5216 - acc: 0.7195 - val_loss: 0.4212 - val_acc: 0.8153\n",
      "Epoch 83/100\n",
      "0s - loss: 0.5585 - acc: 0.7274 - val_loss: 0.4206 - val_acc: 0.8280\n",
      "Epoch 84/100\n",
      "0s - loss: 0.5325 - acc: 0.7161 - val_loss: 0.4227 - val_acc: 0.8089\n",
      "Epoch 85/100\n",
      "0s - loss: 0.5175 - acc: 0.7172 - val_loss: 0.4240 - val_acc: 0.8217\n",
      "Epoch 86/100\n",
      "0s - loss: 0.5295 - acc: 0.7127 - val_loss: 0.4215 - val_acc: 0.8344\n",
      "Epoch 87/100\n",
      "0s - loss: 0.5571 - acc: 0.7251 - val_loss: 0.4204 - val_acc: 0.8280\n",
      "Epoch 88/100\n",
      "0s - loss: 0.5393 - acc: 0.7093 - val_loss: 0.4255 - val_acc: 0.8217\n",
      "Epoch 89/100\n",
      "0s - loss: 0.5672 - acc: 0.7093 - val_loss: 0.4178 - val_acc: 0.8280\n",
      "Epoch 90/100\n",
      "0s - loss: 0.5285 - acc: 0.7217 - val_loss: 0.4124 - val_acc: 0.8280\n",
      "Epoch 91/100\n",
      "0s - loss: 0.5153 - acc: 0.7364 - val_loss: 0.4131 - val_acc: 0.8344\n",
      "Epoch 92/100\n",
      "0s - loss: 0.5557 - acc: 0.7195 - val_loss: 0.4165 - val_acc: 0.8280\n",
      "Epoch 93/100\n",
      "0s - loss: 0.4973 - acc: 0.7308 - val_loss: 0.4207 - val_acc: 0.8280\n",
      "Epoch 94/100\n",
      "0s - loss: 0.5390 - acc: 0.7217 - val_loss: 0.4225 - val_acc: 0.8280\n",
      "Epoch 95/100\n",
      "0s - loss: 0.5419 - acc: 0.7081 - val_loss: 0.4182 - val_acc: 0.8217\n",
      "Epoch 96/100\n",
      "0s - loss: 0.5739 - acc: 0.7115 - val_loss: 0.4192 - val_acc: 0.8344\n",
      "Epoch 97/100\n",
      "0s - loss: 0.5799 - acc: 0.7127 - val_loss: 0.4203 - val_acc: 0.8344\n",
      "Epoch 98/100\n",
      "0s - loss: 0.5585 - acc: 0.7025 - val_loss: 0.4189 - val_acc: 0.8217\n",
      "Epoch 99/100\n",
      "0s - loss: 0.5173 - acc: 0.7432 - val_loss: 0.4192 - val_acc: 0.8153\n",
      "Epoch 100/100\n",
      "0s - loss: 0.5515 - acc: 0.7330 - val_loss: 0.4206 - val_acc: 0.8153\n"
     ]
    }
   ],
   "source": [
    "train_history = model.fit(x=train_features, y=train_labels, validation_split=0.15, epochs=100, batch_size=100, verbose=2)"
   ]
  },
  {
   "cell_type": "code",
   "execution_count": 153,
   "metadata": {
    "collapsed": true
   },
   "outputs": [],
   "source": [
    "import matplotlib.pyplot as plt\n",
    "def show_train_history(train_history, train, validation):\n",
    "    plt.plot(train_history.history[train])\n",
    "    plt.plot(train_history.history[validation])\n",
    "    plt.title('Train history')\n",
    "    plt.ylabel(train)\n",
    "    plt.xlabel('epoch')\n",
    "    plt.legend(['train', 'validation'], loc='upper left')\n",
    "    plt.show()"
   ]
  },
  {
   "cell_type": "code",
   "execution_count": 154,
   "metadata": {
    "collapsed": false
   },
   "outputs": [
    {
     "data": {
      "image/png": "[encoded data removed]",
      "text/plain": [
       "<matplotlib.figure.Figure at 0x129182630>"
      ]
     },
     "metadata": {},
     "output_type": "display_data"
    }
   ],
   "source": [
    "show_train_history(train_history, 'acc', 'val_acc')"
   ]
  },
  {
   "cell_type": "code",
   "execution_count": 155,
   "metadata": {
    "collapsed": false
   },
   "outputs": [
    {
     "name": "stdout",
     "output_type": "stream",
     "text": [
      "\r",
      " 32/268 [==>...........................] - ETA: 0s"
     ]
    }
   ],
   "source": [
    "scores = model.evaluate(x=test_features, y=test_labels)"
   ]
  },
  {
   "cell_type": "code",
   "execution_count": 156,
   "metadata": {
    "collapsed": false
   },
   "outputs": [
    {
     "data": {
      "text/plain": [
       "0.78731343194619929"
      ]
     },
     "execution_count": 156,
     "metadata": {},
     "output_type": "execute_result"
    }
   ],
   "source": [
    "scores[1]"
   ]
  },
  {
   "cell_type": "code",
   "execution_count": null,
   "metadata": {
    "collapsed": true
   },
   "outputs": [],
   "source": [
    "%save cnn_titanic.py 6 13 12"
   ]
  }
 ],
 "metadata": {
  "kernelspec": {
   "display_name": "Python 3",
   "language": "python",
   "name": "python3"
  },
  "language_info": {
   "codemirror_mode": {
    "name": "ipython",
    "version": 3
   },
   "file_extension": ".py",
   "mimetype": "text/x-python",
   "name": "python",
   "nbconvert_exporter": "python",
   "pygments_lexer": "ipython3",
   "version": "3.6.0"
  }
 },
 "nbformat": 4,
 "nbformat_minor": 2
}
