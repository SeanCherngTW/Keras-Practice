{
 "cells": [
  {
   "cell_type": "code",
   "execution_count": 33,
   "metadata": {
    "collapsed": false
   },
   "outputs": [
    {
     "name": "stdout",
     "output_type": "stream",
     "text": [
      "60000\n",
      "10000\n",
      "3\n",
      "3\n"
     ]
    }
   ],
   "source": [
    "import numpy as np\n",
    "import pandas as pd\n",
    "import matplotlib.pyplot as plt\n",
    "from keras.utils import np_utils\n",
    "from keras.datasets import mnist\n",
    "# mnist contains 60,000 training data and 10,000 testing data of hand-writing number\n",
    "\n",
    "\n",
    "def plot_image(image):\n",
    "    fig = plt.gcf()  # Initialize\n",
    "    fig.set_size_inches(10, 10)\n",
    "    plt.imshow(image, cmap='binary')\n",
    "    plt.show()\n",
    "\n",
    "\n",
    "def plot_images_labels_prediction(images, labels, prediction, index, num=10):\n",
    "    fig = plt.gcf()\n",
    "    fig.set_size_inches(12, 14)\n",
    "    num = 25 if num > 25 else num\n",
    "    for i in range(0, num):\n",
    "        ax = plt.subplot(5, 5, 1+i)\n",
    "        ax.imshow(images[index], cmap='binary')\n",
    "        title = \"label = \" + str(images[index])\n",
    "        title += \", prediction = \" + str(prediction[index]) if len(prediction) > 0 else \"\"\n",
    "        ax.set_title(title, fontsize=10)\n",
    "        ax.set_xticks([])\n",
    "        ax.set_yticks([])\n",
    "        index += 1\n",
    "    plt.show()\n",
    "\n",
    "\n",
    "# Return 4 arrays\n",
    "(X_train, y_train), (X_test, y_test) = mnist.load_data()\n",
    "\n",
    "# 28x28 -> 784x1\n",
    "X_train_reshaped = X_train.reshape(60000, 784).astype('float32')\n",
    "X_test_reshaped = X_test.reshape(10000, 784).astype('float32')\n",
    "\n",
    "# Normalize, convert 0~255 to 0~1\n",
    "X_train_normalized = X_train_reshaped / 255\n",
    "X_test_normalized = X_test_reshaped / 255\n",
    "\n",
    "# Convert labels to one-hot encoding\n",
    "y_train_one_hot = np_utils.to_categorical(y_train)\n",
    "y_test_one_hot = np_utils.to_categorical(y_test)\n",
    "\n",
    "print(len(X_train))\n",
    "print(len(X_test))\n",
    "print(len(X_train.shape))  # 60000x28x28\n",
    "print(len(X_test.shape))  # 10000x28x28\n",
    "\n",
    "# plot_image(X_train[5])\n",
    "# print(y_train[5])\n",
    "\n",
    "# plot_images_labels_prediction(X_train, y_train, [], 0, 10)\n",
    "\n"
   ]
  },
  {
   "cell_type": "code",
   "execution_count": 34,
   "metadata": {
    "collapsed": false
   },
   "outputs": [],
   "source": [
    "# Visualize training process\n",
    "import matplotlib.pyplot as plt\n",
    "def show_train_history(train_history, train, validation):\n",
    "    plt.plot(train_history.history[train])\n",
    "    plt.plot(train_history.history[validation])\n",
    "    plt.title('Train history')\n",
    "    plt.ylabel(train)\n",
    "    plt.xlabel('epoch')\n",
    "    plt.legend(['train', 'validation'], loc='upper left')\n",
    "    plt.show()"
   ]
  },
  {
   "cell_type": "markdown",
   "metadata": {},
   "source": [
    "## Build a multilayer perceptron model "
   ]
  },
  {
   "cell_type": "code",
   "execution_count": 35,
   "metadata": {
    "collapsed": true
   },
   "outputs": [],
   "source": [
    "from keras.models import Sequential\n",
    "from keras.layers import Dense"
   ]
  },
  {
   "cell_type": "code",
   "execution_count": 36,
   "metadata": {
    "collapsed": false
   },
   "outputs": [],
   "source": [
    "model = Sequential()\n",
    "# Add layers\n",
    "model.add(Dense(units=1000, input_dim=784, kernel_initializer='normal', activation='relu'))\n",
    "model.add(Dense(units=10, kernel_initializer='normal', activation='softmax'))"
   ]
  },
  {
   "cell_type": "code",
   "execution_count": 37,
   "metadata": {
    "collapsed": false
   },
   "outputs": [
    {
     "name": "stdout",
     "output_type": "stream",
     "text": [
      "_________________________________________________________________\n",
      "Layer (type)                 Output Shape              Param #   \n",
      "=================================================================\n",
      "dense_17 (Dense)             (None, 1000)              785000    \n",
      "_________________________________________________________________\n",
      "dense_18 (Dense)             (None, 10)                10010     \n",
      "=================================================================\n",
      "Total params: 795,010\n",
      "Trainable params: 795,010\n",
      "Non-trainable params: 0\n",
      "_________________________________________________________________\n",
      "None\n"
     ]
    }
   ],
   "source": [
    "print(model.summary())"
   ]
  },
  {
   "cell_type": "code",
   "execution_count": 38,
   "metadata": {
    "collapsed": false
   },
   "outputs": [
    {
     "name": "stdout",
     "output_type": "stream",
     "text": [
      "Train on 48000 samples, validate on 12000 samples\n",
      "Epoch 1/10\n",
      "6s - loss: 0.2914 - acc: 0.9160 - val_loss: 0.1464 - val_acc: 0.9581\n",
      "Epoch 2/10\n",
      "6s - loss: 0.1161 - acc: 0.9670 - val_loss: 0.1032 - val_acc: 0.9698\n",
      "Epoch 3/10\n",
      "6s - loss: 0.0747 - acc: 0.9786 - val_loss: 0.0870 - val_acc: 0.9738\n",
      "Epoch 4/10\n",
      "6s - loss: 0.0503 - acc: 0.9863 - val_loss: 0.0843 - val_acc: 0.9745\n",
      "Epoch 5/10\n",
      "6s - loss: 0.0358 - acc: 0.9903 - val_loss: 0.0801 - val_acc: 0.9763\n",
      "Epoch 6/10\n",
      "6s - loss: 0.0254 - acc: 0.9935 - val_loss: 0.0725 - val_acc: 0.9769\n",
      "Epoch 7/10\n",
      "6s - loss: 0.0189 - acc: 0.9956 - val_loss: 0.0771 - val_acc: 0.9758\n",
      "Epoch 8/10\n",
      "6s - loss: 0.0139 - acc: 0.9969 - val_loss: 0.0769 - val_acc: 0.9776\n",
      "Epoch 9/10\n",
      "6s - loss: 0.0094 - acc: 0.9982 - val_loss: 0.0736 - val_acc: 0.9798\n",
      "Epoch 10/10\n",
      "6s - loss: 0.0064 - acc: 0.9991 - val_loss: 0.0704 - val_acc: 0.9808\n"
     ]
    }
   ],
   "source": [
    "# Model settings (784 -> 1000 -> 10)\n",
    "model.compile(loss='categorical_crossentropy', optimizer='adam', metrics=['accuracy'])\n",
    "train_history = model.fit(x=X_train_normalized, \n",
    "                          y=y_train_one_hot, \n",
    "                          validation_split=0.2, epochs=10, batch_size=200, verbose=2)"
   ]
  },
  {
   "cell_type": "code",
   "execution_count": 39,
   "metadata": {
    "collapsed": false
   },
   "outputs": [
    {
     "data": {
      "image/png": "[encoded data removed]",
      "text/plain": [
       "<matplotlib.figure.Figure at 0x1428e9a58>"
      ]
     },
     "metadata": {},
     "output_type": "display_data"
    }
   ],
   "source": [
    "# Overfitting\n",
    "show_train_history(train_history,'acc','val_acc')"
   ]
  },
  {
   "cell_type": "markdown",
   "metadata": {},
   "source": [
    "## Add Dropout"
   ]
  },
  {
   "cell_type": "code",
   "execution_count": 40,
   "metadata": {
    "collapsed": false
   },
   "outputs": [],
   "source": [
    "from keras.layers import Dropout\n",
    "\n",
    "model_dropout = Sequential()\n",
    "# Add layers\n",
    "model_dropout.add(Dense(units=1000, input_dim=784, kernel_initializer='normal', activation='relu'))\n",
    "model_dropout.add(Dropout(0.5))\n",
    "model_dropout.add(Dense(units=1000, kernel_initializer='normal', activation='relu'))\n",
    "model_dropout.add(Dropout(0.5))\n",
    "model_dropout.add(Dense(units=1000, kernel_initializer='normal', activation='relu'))\n",
    "model_dropout.add(Dropout(0.5))\n",
    "model_dropout.add(Dense(units=1000, kernel_initializer='normal', activation='relu'))\n",
    "model_dropout.add(Dropout(0.5))\n",
    "model_dropout.add(Dense(units=10, kernel_initializer='normal', activation='softmax'))"
   ]
  },
  {
   "cell_type": "code",
   "execution_count": 43,
   "metadata": {
    "collapsed": false
   },
   "outputs": [
    {
     "name": "stdout",
     "output_type": "stream",
     "text": [
      "_________________________________________________________________\n",
      "Layer (type)                 Output Shape              Param #   \n",
      "=================================================================\n",
      "dense_19 (Dense)             (None, 1000)              785000    \n",
      "_________________________________________________________________\n",
      "dropout_9 (Dropout)          (None, 1000)              0         \n",
      "_________________________________________________________________\n",
      "dense_20 (Dense)             (None, 1000)              1001000   \n",
      "_________________________________________________________________\n",
      "dropout_10 (Dropout)         (None, 1000)              0         \n",
      "_________________________________________________________________\n",
      "dense_21 (Dense)             (None, 1000)              1001000   \n",
      "_________________________________________________________________\n",
      "dropout_11 (Dropout)         (None, 1000)              0         \n",
      "_________________________________________________________________\n",
      "dense_22 (Dense)             (None, 1000)              1001000   \n",
      "_________________________________________________________________\n",
      "dropout_12 (Dropout)         (None, 1000)              0         \n",
      "_________________________________________________________________\n",
      "dense_23 (Dense)             (None, 10)                10010     \n",
      "=================================================================\n",
      "Total params: 3,798,010\n",
      "Trainable params: 3,798,010\n",
      "Non-trainable params: 0\n",
      "_________________________________________________________________\n"
     ]
    }
   ],
   "source": [
    "model_dropout.summary()"
   ]
  },
  {
   "cell_type": "code",
   "execution_count": 44,
   "metadata": {
    "collapsed": false
   },
   "outputs": [
    {
     "name": "stdout",
     "output_type": "stream",
     "text": [
      "Train on 48000 samples, validate on 12000 samples\n",
      "Epoch 1/10\n",
      "35s - loss: 0.2396 - acc: 0.9295 - val_loss: 0.1185 - val_acc: 0.9654\n",
      "Epoch 2/10\n",
      "34s - loss: 0.1801 - acc: 0.9488 - val_loss: 0.1137 - val_acc: 0.9687\n",
      "Epoch 3/10\n",
      "34s - loss: 0.1525 - acc: 0.9573 - val_loss: 0.0958 - val_acc: 0.9731\n",
      "Epoch 4/10\n",
      "34s - loss: 0.1320 - acc: 0.9627 - val_loss: 0.0939 - val_acc: 0.9740\n",
      "Epoch 5/10\n",
      "34s - loss: 0.1252 - acc: 0.9652 - val_loss: 0.0913 - val_acc: 0.9745\n",
      "Epoch 6/10\n",
      "34s - loss: 0.1124 - acc: 0.9687 - val_loss: 0.0891 - val_acc: 0.9757\n",
      "Epoch 7/10\n",
      "33s - loss: 0.1035 - acc: 0.9698 - val_loss: 0.0949 - val_acc: 0.9735\n",
      "Epoch 8/10\n",
      "35s - loss: 0.0940 - acc: 0.9740 - val_loss: 0.0828 - val_acc: 0.9780\n",
      "Epoch 9/10\n",
      "36s - loss: 0.0867 - acc: 0.9751 - val_loss: 0.0875 - val_acc: 0.9768\n",
      "Epoch 10/10\n",
      "34s - loss: 0.0836 - acc: 0.9761 - val_loss: 0.0910 - val_acc: 0.9765\n"
     ]
    }
   ],
   "source": [
    "# Model settings (784 -> 1000 -> 10)\n",
    "model_dropout.compile(loss='categorical_crossentropy', optimizer='adam', metrics=['accuracy'])\n",
    "train_history_dropout = model_dropout.fit(x=X_train_normalized, \n",
    "                          y=y_train_one_hot, \n",
    "                          validation_split=0.2, epochs=10, batch_size=200, verbose=2)"
   ]
  },
  {
   "cell_type": "code",
   "execution_count": 45,
   "metadata": {
    "collapsed": false
   },
   "outputs": [
    {
     "data": {
      "image/png": "[encoded data removed]",
      "text/plain": [
       "<matplotlib.figure.Figure at 0x13a600828>"
      ]
     },
     "metadata": {},
     "output_type": "display_data"
    }
   ],
   "source": [
    "show_train_history(train_history_dropout,'acc','val_acc')"
   ]
  },
  {
   "cell_type": "code",
   "execution_count": null,
   "metadata": {
    "collapsed": false
   },
   "outputs": [],
   "source": [
    "%save mlp_handwriting_number_recognition.py 33-45"
   ]
  },
  {
   "cell_type": "code",
   "execution_count": null,
   "metadata": {
    "collapsed": true
   },
   "outputs": [],
   "source": []
  }
 ],
 "metadata": {
  "kernelspec": {
   "display_name": "Python 3",
   "language": "python",
   "name": "python3"
  },
  "language_info": {
   "codemirror_mode": {
    "name": "ipython",
    "version": 3
   },
   "file_extension": ".py",
   "mimetype": "text/x-python",
   "name": "python",
   "nbconvert_exporter": "python",
   "pygments_lexer": "ipython3",
   "version": "3.6.0"
  }
 },
 "nbformat": 4,
 "nbformat_minor": 2
}
